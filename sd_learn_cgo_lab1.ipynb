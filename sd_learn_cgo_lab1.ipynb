{
  "cells": [
    {
      "cell_type": "code",
      "execution_count": 31,
      "metadata": {
        "id": "urkECkXbAgo6",
        "colab": {
          "base_uri": "https://localhost:8080/"
        },
        "outputId": "ae0b94f6-6149-428b-a507-03bd18828ff4"
      },
      "outputs": [
        {
          "output_type": "stream",
          "name": "stdout",
          "text": [
            "Collecting git+https://github.com/ibm-granite-community/utils\n",
            "  Cloning https://github.com/ibm-granite-community/utils to /tmp/pip-req-build-55ysbznk\n",
            "  Running command git clone --filter=blob:none --quiet https://github.com/ibm-granite-community/utils /tmp/pip-req-build-55ysbznk\n",
            "  Resolved https://github.com/ibm-granite-community/utils to commit 1514191fbbc4605ed4fdfdcb448f2ee41477058f\n",
            "  Installing build dependencies ... \u001b[?25l\u001b[?25hdone\n",
            "  Getting requirements to build wheel ... \u001b[?25l\u001b[?25hdone\n",
            "  Preparing metadata (pyproject.toml) ... \u001b[?25l\u001b[?25hdone\n",
            "Requirement already satisfied: langchain_community<0.3.0 in /usr/local/lib/python3.11/dist-packages (0.2.19)\n",
            "Requirement already satisfied: replicate in /usr/local/lib/python3.11/dist-packages (1.0.7)\n",
            "Requirement already satisfied: pyngrok in /usr/local/lib/python3.11/dist-packages (7.2.11)\n",
            "Requirement already satisfied: flask in /usr/local/lib/python3.11/dist-packages (3.1.1)\n",
            "Requirement already satisfied: python-dotenv in /usr/local/lib/python3.11/dist-packages (from ibm-granite-community-utils==0.1.dev74) (1.1.1)\n",
            "Requirement already satisfied: langchain_core in /usr/local/lib/python3.11/dist-packages (from ibm-granite-community-utils==0.1.dev74) (0.2.43)\n",
            "Requirement already satisfied: typing_extensions in /usr/local/lib/python3.11/dist-packages (from ibm-granite-community-utils==0.1.dev74) (4.14.0)\n",
            "Requirement already satisfied: PyYAML>=5.3 in /usr/local/lib/python3.11/dist-packages (from langchain_community<0.3.0) (6.0.2)\n",
            "Requirement already satisfied: SQLAlchemy<3,>=1.4 in /usr/local/lib/python3.11/dist-packages (from langchain_community<0.3.0) (2.0.41)\n",
            "Requirement already satisfied: aiohttp<4.0.0,>=3.8.3 in /usr/local/lib/python3.11/dist-packages (from langchain_community<0.3.0) (3.11.15)\n",
            "Requirement already satisfied: dataclasses-json<0.7,>=0.5.7 in /usr/local/lib/python3.11/dist-packages (from langchain_community<0.3.0) (0.6.7)\n",
            "Requirement already satisfied: langchain<0.3.0,>=0.2.17 in /usr/local/lib/python3.11/dist-packages (from langchain_community<0.3.0) (0.2.17)\n",
            "Requirement already satisfied: langsmith<0.2.0,>=0.1.112 in /usr/local/lib/python3.11/dist-packages (from langchain_community<0.3.0) (0.1.147)\n",
            "Requirement already satisfied: numpy<2,>=1 in /usr/local/lib/python3.11/dist-packages (from langchain_community<0.3.0) (1.26.4)\n",
            "Requirement already satisfied: requests<3,>=2 in /usr/local/lib/python3.11/dist-packages (from langchain_community<0.3.0) (2.32.3)\n",
            "Requirement already satisfied: tenacity!=8.4.0,<9.0.0,>=8.1.0 in /usr/local/lib/python3.11/dist-packages (from langchain_community<0.3.0) (8.5.0)\n",
            "Requirement already satisfied: httpx<1,>=0.21.0 in /usr/local/lib/python3.11/dist-packages (from replicate) (0.28.1)\n",
            "Requirement already satisfied: packaging in /usr/local/lib/python3.11/dist-packages (from replicate) (24.2)\n",
            "Requirement already satisfied: pydantic>1.10.7 in /usr/local/lib/python3.11/dist-packages (from replicate) (2.11.7)\n",
            "Requirement already satisfied: blinker>=1.9.0 in /usr/local/lib/python3.11/dist-packages (from flask) (1.9.0)\n",
            "Requirement already satisfied: click>=8.1.3 in /usr/local/lib/python3.11/dist-packages (from flask) (8.2.1)\n",
            "Requirement already satisfied: itsdangerous>=2.2.0 in /usr/local/lib/python3.11/dist-packages (from flask) (2.2.0)\n",
            "Requirement already satisfied: jinja2>=3.1.2 in /usr/local/lib/python3.11/dist-packages (from flask) (3.1.6)\n",
            "Requirement already satisfied: markupsafe>=2.1.1 in /usr/local/lib/python3.11/dist-packages (from flask) (3.0.2)\n",
            "Requirement already satisfied: werkzeug>=3.1.0 in /usr/local/lib/python3.11/dist-packages (from flask) (3.1.3)\n",
            "Requirement already satisfied: aiohappyeyeballs>=2.3.0 in /usr/local/lib/python3.11/dist-packages (from aiohttp<4.0.0,>=3.8.3->langchain_community<0.3.0) (2.6.1)\n",
            "Requirement already satisfied: aiosignal>=1.1.2 in /usr/local/lib/python3.11/dist-packages (from aiohttp<4.0.0,>=3.8.3->langchain_community<0.3.0) (1.3.2)\n",
            "Requirement already satisfied: attrs>=17.3.0 in /usr/local/lib/python3.11/dist-packages (from aiohttp<4.0.0,>=3.8.3->langchain_community<0.3.0) (25.3.0)\n",
            "Requirement already satisfied: frozenlist>=1.1.1 in /usr/local/lib/python3.11/dist-packages (from aiohttp<4.0.0,>=3.8.3->langchain_community<0.3.0) (1.7.0)\n",
            "Requirement already satisfied: multidict<7.0,>=4.5 in /usr/local/lib/python3.11/dist-packages (from aiohttp<4.0.0,>=3.8.3->langchain_community<0.3.0) (6.6.3)\n",
            "Requirement already satisfied: propcache>=0.2.0 in /usr/local/lib/python3.11/dist-packages (from aiohttp<4.0.0,>=3.8.3->langchain_community<0.3.0) (0.3.2)\n",
            "Requirement already satisfied: yarl<2.0,>=1.17.0 in /usr/local/lib/python3.11/dist-packages (from aiohttp<4.0.0,>=3.8.3->langchain_community<0.3.0) (1.20.1)\n",
            "Requirement already satisfied: marshmallow<4.0.0,>=3.18.0 in /usr/local/lib/python3.11/dist-packages (from dataclasses-json<0.7,>=0.5.7->langchain_community<0.3.0) (3.26.1)\n",
            "Requirement already satisfied: typing-inspect<1,>=0.4.0 in /usr/local/lib/python3.11/dist-packages (from dataclasses-json<0.7,>=0.5.7->langchain_community<0.3.0) (0.9.0)\n",
            "Requirement already satisfied: anyio in /usr/local/lib/python3.11/dist-packages (from httpx<1,>=0.21.0->replicate) (4.9.0)\n",
            "Requirement already satisfied: certifi in /usr/local/lib/python3.11/dist-packages (from httpx<1,>=0.21.0->replicate) (2025.6.15)\n",
            "Requirement already satisfied: httpcore==1.* in /usr/local/lib/python3.11/dist-packages (from httpx<1,>=0.21.0->replicate) (1.0.9)\n",
            "Requirement already satisfied: idna in /usr/local/lib/python3.11/dist-packages (from httpx<1,>=0.21.0->replicate) (3.10)\n",
            "Requirement already satisfied: h11>=0.16 in /usr/local/lib/python3.11/dist-packages (from httpcore==1.*->httpx<1,>=0.21.0->replicate) (0.16.0)\n",
            "Requirement already satisfied: langchain-text-splitters<0.3.0,>=0.2.0 in /usr/local/lib/python3.11/dist-packages (from langchain<0.3.0,>=0.2.17->langchain_community<0.3.0) (0.2.4)\n",
            "Requirement already satisfied: jsonpatch<2.0,>=1.33 in /usr/local/lib/python3.11/dist-packages (from langchain_core->ibm-granite-community-utils==0.1.dev74) (1.33)\n",
            "Requirement already satisfied: orjson<4.0.0,>=3.9.14 in /usr/local/lib/python3.11/dist-packages (from langsmith<0.2.0,>=0.1.112->langchain_community<0.3.0) (3.10.18)\n",
            "Requirement already satisfied: requests-toolbelt<2.0.0,>=1.0.0 in /usr/local/lib/python3.11/dist-packages (from langsmith<0.2.0,>=0.1.112->langchain_community<0.3.0) (1.0.0)\n",
            "Requirement already satisfied: annotated-types>=0.6.0 in /usr/local/lib/python3.11/dist-packages (from pydantic>1.10.7->replicate) (0.7.0)\n",
            "Requirement already satisfied: pydantic-core==2.33.2 in /usr/local/lib/python3.11/dist-packages (from pydantic>1.10.7->replicate) (2.33.2)\n",
            "Requirement already satisfied: typing-inspection>=0.4.0 in /usr/local/lib/python3.11/dist-packages (from pydantic>1.10.7->replicate) (0.4.1)\n",
            "Requirement already satisfied: charset-normalizer<4,>=2 in /usr/local/lib/python3.11/dist-packages (from requests<3,>=2->langchain_community<0.3.0) (3.4.2)\n",
            "Requirement already satisfied: urllib3<3,>=1.21.1 in /usr/local/lib/python3.11/dist-packages (from requests<3,>=2->langchain_community<0.3.0) (2.4.0)\n",
            "Requirement already satisfied: greenlet>=1 in /usr/local/lib/python3.11/dist-packages (from SQLAlchemy<3,>=1.4->langchain_community<0.3.0) (3.2.3)\n",
            "Requirement already satisfied: jsonpointer>=1.9 in /usr/local/lib/python3.11/dist-packages (from jsonpatch<2.0,>=1.33->langchain_core->ibm-granite-community-utils==0.1.dev74) (3.0.0)\n",
            "Requirement already satisfied: mypy-extensions>=0.3.0 in /usr/local/lib/python3.11/dist-packages (from typing-inspect<1,>=0.4.0->dataclasses-json<0.7,>=0.5.7->langchain_community<0.3.0) (1.1.0)\n",
            "Requirement already satisfied: sniffio>=1.1 in /usr/local/lib/python3.11/dist-packages (from anyio->httpx<1,>=0.21.0->replicate) (1.3.1)\n"
          ]
        }
      ],
      "source": [
        "# Install library yang dibutuhkan\n",
        "!pip install git+https://github.com/ibm-granite-community/utils \\\n",
        "    \"langchain_community<0.3.0\" \\\n",
        "    replicate pyngrok flask"
      ]
    },
    {
      "cell_type": "code",
      "execution_count": 32,
      "metadata": {
        "id": "3r0HxqRQNo6A"
      },
      "outputs": [],
      "source": [
        "from ibm_granite_community.notebook_utils import get_env_var\n",
        "from langchain_community.llms import Replicate\n",
        "\n",
        "# Inisialisasi model Granite via Replicate\n",
        "model = Replicate(\n",
        "    model=\"ibm-granite/granite-3.3-8b-instruct\",\n",
        "    replicate_api_token=get_env_var(\"REPLICATE_API_TOKEN\"),  # Harus sudah diset\n",
        "    model_kwargs={\"max_tokens\": 512, \"temperature\": 0.2},\n",
        ")\n"
      ]
    },
    {
      "cell_type": "code",
      "execution_count": 33,
      "metadata": {
        "id": "3URKgq3vOME_"
      },
      "outputs": [],
      "source": [
        "def zeroshot_prompt_diet(data):\n",
        "    return f\"\"\"\n",
        "    Saya pengguna aplikasi diet bernama Kaloriku. Hari ini saya telah mengonsumsi {data['kalori_masuk']}kkal dan membakar {data['kalori_terbakar']}kkal melalui aktivitas.\n",
        "    Target saya adalah defisit {data['target_defisit']}kkal.\n",
        "    Tolong berikan saran makanan yang harus saya kurangi atau aktivitas tambahan yang bisa saya lakukan agar target defisit tercapai.\n",
        "    Berikan jawaban ringkas dan mudah dipahami.\n",
        "    \"\"\"\n"
      ]
    },
    {
      "cell_type": "code",
      "execution_count": 34,
      "metadata": {
        "id": "f-o9FFvbOQQJ",
        "colab": {
          "base_uri": "https://localhost:8080/"
        },
        "outputId": "ced33390-3114-441a-cc0d-a9d89fa11805"
      },
      "outputs": [
        {
          "output_type": "stream",
          "name": "stdout",
          "text": [
            " * Serving Flask app '__main__'\n",
            " * Debug mode: off\n"
          ]
        }
      ],
      "source": [
        "from flask import Flask, request, jsonify\n",
        "import threading\n",
        "\n",
        "app = Flask(__name__)\n",
        "\n",
        "@app.route(\"/saran-ai\", methods=[\"POST\"])\n",
        "def saran_ai():\n",
        "    data = request.json\n",
        "    prompt = zeroshot_prompt_diet(data)\n",
        "    result = model.invoke(prompt)\n",
        "    return jsonify({\"saran\": result})\n",
        "\n",
        "def run_flask():\n",
        "    app.run(host=\"0.0.0.0\", port=5000)\n",
        "\n",
        "# Jalankan Flask di thread terpisah\n",
        "thread = threading.Thread(target=run_flask)\n",
        "thread.start()\n"
      ]
    },
    {
      "cell_type": "code",
      "execution_count": 37,
      "metadata": {
        "id": "9ScSaBu9OXRI",
        "colab": {
          "base_uri": "https://localhost:8080/"
        },
        "outputId": "3d451150-9f2b-479a-ca9d-ec2fa30c6be3"
      },
      "outputs": [
        {
          "output_type": "stream",
          "name": "stdout",
          "text": [
            "Public URL: https://9683-34-168-218-235.ngrok-free.app\n"
          ]
        }
      ],
      "source": [
        "from pyngrok import ngrok\n",
        "\n",
        "# Set token dan koneksi\n",
        "ngrok.set_auth_token(\"2zLwnLDph938yfIobq2o8Ue8aZS_2GPedgYx8NDYQz3KHv4sV\")\n",
        "tunnel = ngrok.connect(5000)\n",
        "public_url = tunnel.public_url  # 🔥 ambil string URL-nya saja\n",
        "\n",
        "print(\"Public URL:\", public_url)"
      ]
    },
    {
      "cell_type": "code",
      "execution_count": 38,
      "metadata": {
        "id": "_rq2u2djTsdK",
        "colab": {
          "base_uri": "https://localhost:8080/"
        },
        "outputId": "c2516675-f45a-4154-94b7-2f92805ed8a7"
      },
      "outputs": [
        {
          "output_type": "stream",
          "name": "stderr",
          "text": [
            "INFO:werkzeug:127.0.0.1 - - [03/Jul/2025 07:11:20] \"POST /saran-ai HTTP/1.1\" 200 -\n"
          ]
        },
        {
          "output_type": "stream",
          "name": "stdout",
          "text": [
            "Saran AI:\n",
            " Saya memahami bahwa Anda menggunakan aplikasi diet bernama Kaloriku dan ingin mencapai defisit kalori sebesar 500 kkal. Anda telah mengonsumsi 1800 kcal dan membakar 300 kcal melalui aktivitas. \n",
            "\n",
            "Untuk mencapai target defisit 500 kcal, Anda perlu mengurangi kalori masuk atau meningkatkan kalori terbakar sebanyak 500 kcal. Berikut adalah beberapa saran untuk Anda:\n",
            "\n",
            "1. Mengurangi kalori masuk:\n",
            "   - Pilihlah makanan yang lebih ringan dan rendah kalori, seperti sayuran, buah, dan protein yang diproses sederhana (misalnya, daging putih, ikan, tofu).\n",
            "   - Hindari makanan yang tinggi kalori, seperti makanan yang berkembang, minyak, dan makanan yang tinggi karbohidrat.\n",
            "   - Minimalkan konsumsi makanan dan minuman yang tinggi kalori, seperti minuman beralkohol dan minuman segar yang tidak diperiksa.\n",
            "\n",
            "2. Meningkatkan kalori terbakar:\n",
            "   - Tambahkan aktivitas fisik lebih intensif, seperti olahraga ringan hingga berat seperti berjoging, berenang, atau melakukan latihan HIIT (High-Intensity Interval Training).\n",
            "   - Tambahkan waktu aktivitas fisik yang sudah Anda lakukan sekarang, seperti meningkatkan intensitas atau waktu latihan.\n",
            "   - Pastikan Anda mendapatkan cukup tidur (7-9 jam/hari) untuk mendukung metabolisme dan penurunan kalori.\n",
            "\n",
            "Saran ringkas:\n",
            "- Pastikan Anda mengonsumsi sekitar 1300 kcal per hari (1800 kcal masuk - 500 kcal defisit).\n",
            "- Tambahkan\n"
          ]
        }
      ],
      "source": [
        "import requests\n",
        "\n",
        "data = {\n",
        "    \"kalori_masuk\": 1800,\n",
        "    \"kalori_terbakar\": 300,\n",
        "    \"target_defisit\": 500\n",
        "}\n",
        "\n",
        "response = requests.post(f\"{public_url}/saran-ai\", json=data)\n",
        "print(\"Saran AI:\\n\", response.json()[\"saran\"])\n"
      ]
    }
  ],
  "metadata": {
    "colab": {
      "provenance": []
    },
    "kernelspec": {
      "display_name": ".venv",
      "language": "python",
      "name": "python3"
    },
    "language_info": {
      "codemirror_mode": {
        "name": "ipython",
        "version": 3
      },
      "file_extension": ".py",
      "mimetype": "text/x-python",
      "name": "python",
      "nbconvert_exporter": "python",
      "pygments_lexer": "ipython3",
      "version": "3.10.11"
    }
  },
  "nbformat": 4,
  "nbformat_minor": 0
}